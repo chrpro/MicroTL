{
 "cells": [
  {
   "cell_type": "code",
   "execution_count": 14,
   "metadata": {},
   "outputs": [],
   "source": [
    "import tensorflow as tf\n",
    "import numpy as np\n",
    "from  keras.utils import np_utils\n",
    "from matplotlib import pyplot as plt\n"
   ]
  },
  {
   "cell_type": "code",
   "execution_count": 15,
   "metadata": {},
   "outputs": [
    {
     "name": "stdout",
     "output_type": "stream",
     "text": [
      "2.3.0\n"
     ]
    }
   ],
   "source": [
    "print(tf.__version__)"
   ]
  },
  {
   "cell_type": "code",
   "execution_count": 16,
   "metadata": {},
   "outputs": [],
   "source": [
    "def generate_train_header(x, y, file='tain_data.h'):\n",
    "    '''\n",
    "    this method generate the\n",
    "    :param x:  input x data size\n",
    "    :param y:  input label (one hot label)\n",
    "    :return:\n",
    "    '''\n",
    "    # quantize input x\n",
    "    min_value = np.min(x)\n",
    "    max_value = np.max(x)\n",
    "\n",
    "    int_bits = int(np.ceil(np.log2(max(abs(min_value), abs(max_value)))))\n",
    "    dec_bits = 7 - int_bits\n",
    "    x = np.round(x*2**dec_bits).astype(np.int8)\n",
    "    \n",
    "#     print(x[0][0])\n",
    "    data = x.astype(dtype=\"byte\")\n",
    "    label = y\n",
    "    node = 0\n",
    "    with open(file, 'w') as f:\n",
    "        num_of_image = x.shape[0]\n",
    "        \n",
    "        print(\"Number of training images:\",num_of_image)\n",
    "        for i in range(num_of_image):\n",
    "            f.write('#define NODE_%d_TRAIN_IMG_%d {'%(node,i) )\n",
    "            (data[i]).flatten().tofile(f, sep=\", \") # convert 0~1 to 0~127\n",
    "            f.write('} \\n')\n",
    "            f.write('#define NODE_%d_TRAIN_IMG%d_LABEL'% (node, i))\n",
    "            f.write(' %d \\n \\n' % label[i])\n",
    "        f.write('#define NODE_%d_TOTAL_TRAIN_IMAGES %d \\n \\n'%(node,num_of_image))\n",
    "\n",
    "        f.write('static q7_t NODE_%d_TRAIN_IMAGES[%d][%d] = {' % (node,num_of_image, data[0].flatten().shape[0]))\n",
    "        f.write('NODE_%d_TRAIN_IMG_0'%(node))\n",
    "        for i in range(num_of_image -1):\n",
    "            f.write(',NODE_%d_TRAIN_IMG_%d'%(node, i+1))\n",
    "        f.write('};\\n\\n')\n",
    "\n",
    "        f.write('static q7_t NODE_%d_TRAIN_LABELS[%d] = {' % (node,num_of_image))\n",
    "        f.write('NODE_%d_TRAIN_IMG0_LABEL'%(node))\n",
    "        for i in range(num_of_image -1):\n",
    "            f.write(',NODE_%d_TRAIN_IMG%d_LABEL'%(node, i+1))\n",
    "        f.write('};\\n\\n')\n",
    "\n",
    "#     return 000\n"
   ]
  },
  {
   "cell_type": "code",
   "execution_count": 17,
   "metadata": {},
   "outputs": [],
   "source": [
    "def generate_test_bin(x, y, file='test_data.h'):\n",
    "    '''\n",
    "    method to generate the test data as a header file\n",
    "    :param x:  input x data size\n",
    "    :param y:  input label \n",
    "    :write to file \n",
    "    :return: nothing\n",
    "    '''\n",
    "    # quantize input x\n",
    "    min_value = np.min(x)\n",
    "    max_value = np.max(x)\n",
    "\n",
    "    int_bits = int(np.ceil(np.log2(max(abs(min_value), abs(max_value)))))\n",
    "    dec_bits = 7 - int_bits\n",
    "    x = np.round(x*2**dec_bits).astype(np.int8)\n",
    "    \n",
    "    data = x\n",
    "    label = y\n",
    "\n",
    "    with open(file, 'w') as f:\n",
    "        num_of_image = x.shape[0]\n",
    "        print(\"Number of test images:\",num_of_image)\n",
    "        for i in range(num_of_image):\n",
    "            f.write('#define TEST_IMG%d {'% (i))\n",
    "            data[i].flatten().tofile(f, sep=\", \")\n",
    "            f.write('} \\n')\n",
    "            f.write('#define TEST_IMG%d_LABEL'% (i))\n",
    "            f.write(' %d \\n \\n' % label[i])\n",
    "        f.write('#define TOTAL_TEST_IMAGES %d \\n \\n'%(num_of_image))\n",
    "\n",
    "        f.write('static q7_t TEST_IMAGES[%d][%d] = {' % (num_of_image, data[0].flatten().shape[0]))\n",
    "        f.write('TEST_IMG0')\n",
    "        for i in range(num_of_image -1):\n",
    "            f.write(',TEST_IMG%d'%(i+1))\n",
    "        f.write('};\\n\\n')\n",
    "\n",
    "        f.write('static q7_t TEST_LABELS[%d] = {' % (num_of_image))\n",
    "        f.write('TEST_IMG0_LABEL')\n",
    "        for i in range(num_of_image -1):\n",
    "            f.write(',TEST_IMG%d_LABEL'%(i+1))\n",
    "        f.write('};\\n\\n')\n"
   ]
  },
  {
   "cell_type": "code",
   "execution_count": 21,
   "metadata": {},
   "outputs": [
    {
     "name": "stdout",
     "output_type": "stream",
     "text": [
      "Number of training images: 700\n",
      "Number of test images: 130\n",
      "done\n"
     ]
    }
   ],
   "source": [
    "## MNIST images\n",
    "\n",
    "\n",
    "mnist = tf.keras.datasets.mnist\n",
    "(x_train, y_train), (x_test, y_test) = mnist.load_data()\n",
    "x_train, x_test = x_train / 255.0, x_test / 255.0\n",
    "\n",
    "\n",
    "\n",
    "\n",
    "# subset_x_train = x_train[np.isin(y_train, [6,7,8]).flatten()]\n",
    "# subset_y_train = y_train[np.isin(y_train, [6,7,8]).flatten()]-6\n",
    "\n",
    "# subset_x_test = x_test[np.isin(y_test, [6,7,8]).flatten()]\n",
    "# subset_y_test = y_test[np.isin(y_test, [6,7,8]).flatten()]-6\n",
    "\n",
    "\n",
    "# indices = np.random.choice(500, n, replace=False)\n",
    "# indices = np.random.choice(x_train.shape[0], 600, replace=False)\n",
    "# print(indices)\n",
    "\n",
    "generate_train_header(x_train[:700], y_train[:700], file='tain_data.h')\n",
    "generate_test_bin(x_train[600:730], y_train[600:730], file='test_data.h')\n",
    "\n",
    "# generate_test_bin(x_test, y_test, file='test_data.h')\n",
    "\n",
    "\n",
    "# generate_train_header(subset_x_train, subset_y_train, file='cifar_train_data.h')\n",
    "# subset_x_train.shape[0]\n",
    "# federated_train_images(0, subset_x_train*127, subset_y_train, subset_x_train.shape[0], file='CIFAR3-TrainSet.h')\n",
    "\n",
    "# subset_x_test.shape[0]\n",
    "\n",
    "# imagesTestcfile(subset_x_test*127, subset_y_test,subset_x_test.shape[0] , file='CIFAR3-TestSet.h')\n",
    "\n",
    "\n",
    "print (\"done\")"
   ]
  },
  {
   "cell_type": "code",
   "execution_count": null,
   "metadata": {},
   "outputs": [],
   "source": []
  },
  {
   "cell_type": "code",
   "execution_count": 12,
   "metadata": {},
   "outputs": [
    {
     "name": "stdout",
     "output_type": "stream",
     "text": [
      "(48630, 28, 28)\n",
      "(48630,)\n",
      "[0 1 2 3 4 5 6 7 8 9]\n"
     ]
    }
   ],
   "source": [
    "print(subset_x_train.shape)\n",
    "print(subset_y_train.shape)\n",
    "print (np.unique(y_train))"
   ]
  },
  {
   "cell_type": "code",
   "execution_count": 11,
   "metadata": {},
   "outputs": [],
   "source": [
    "!open ."
   ]
  },
  {
   "cell_type": "code",
   "execution_count": null,
   "metadata": {},
   "outputs": [],
   "source": [
    "imgplot = plt.imshow(subset_x_train[21])\n",
    "print(subset_y_train[21])"
   ]
  },
  {
   "cell_type": "code",
   "execution_count": null,
   "metadata": {},
   "outputs": [],
   "source": []
  },
  {
   "cell_type": "code",
   "execution_count": null,
   "metadata": {},
   "outputs": [],
   "source": []
  },
  {
   "cell_type": "code",
   "execution_count": null,
   "metadata": {},
   "outputs": [],
   "source": []
  },
  {
   "cell_type": "code",
   "execution_count": null,
   "metadata": {},
   "outputs": [],
   "source": []
  },
  {
   "cell_type": "code",
   "execution_count": null,
   "metadata": {},
   "outputs": [],
   "source": []
  }
 ],
 "metadata": {
  "kernelspec": {
   "display_name": "Python 3",
   "language": "python",
   "name": "python3"
  },
  "language_info": {
   "codemirror_mode": {
    "name": "ipython",
    "version": 3
   },
   "file_extension": ".py",
   "mimetype": "text/x-python",
   "name": "python",
   "nbconvert_exporter": "python",
   "pygments_lexer": "ipython3",
   "version": "3.8.6"
  }
 },
 "nbformat": 4,
 "nbformat_minor": 2
}
