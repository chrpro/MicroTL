{
 "cells": [
  {
   "cell_type": "code",
   "execution_count": 6,
   "metadata": {},
   "outputs": [],
   "source": [
    "import numpy as np"
   ]
  },
  {
   "cell_type": "code",
   "execution_count": 30,
   "metadata": {},
   "outputs": [],
   "source": [
    "def federated_train_images(node, data, label, size, file='renameTHIS.h'):\n",
    "    # test\n",
    "    with open(file, 'w') as f:\n",
    "        num_of_image = size\n",
    "        for i in range(num_of_image):\n",
    "            f.write('#define NODE_%d_TRAIN_IMG_%d {'%(node,i) )\n",
    "            np.round(data[i]).flatten().tofile(f, sep=\", \", format=\"%d\") # convert 0~1 to 0~127\n",
    "            f.write('} \\n')\n",
    "            f.write('#define NODE_%d_TRAIN_IMG%d_LABEL'% (node, i))\n",
    "            f.write(' %d \\n \\n' % label[i])\n",
    "        f.write('#define NODE_%d_TOTAL_TRAIN_IMAGES %d \\n \\n'%(node,num_of_image))\n",
    "\n",
    "        f.write('static q7_t NODE_%d_TRAIN_IMAGES[%d][%d] = {' % (node,num_of_image, data[0].flatten().shape[0]))\n",
    "        f.write('NODE_%d_TRAIN_IMG_0'%(node))\n",
    "        for i in range(num_of_image -1):\n",
    "            f.write(',NODE_%d_TRAIN_IMG_%d'%(node, i+1))\n",
    "        f.write('};\\n\\n')\n",
    "\n",
    "        f.write('static q7_t NODE_%d_TRAIN_LABELS[%d] = {' % (node,num_of_image))\n",
    "        f.write('NODE_%d_TRAIN_IMG0_LABEL'%(node))\n",
    "        for i in range(num_of_image -1):\n",
    "            f.write(',NODE_%d_TRAIN_IMG%d_LABEL'%(node, i+1))\n",
    "        f.write('};\\n\\n')"
   ]
  },
  {
   "cell_type": "code",
   "execution_count": 31,
   "metadata": {},
   "outputs": [],
   "source": [
    "\n",
    "def normalize(data):\n",
    "    data[:, :, 0:3] = data[:, :, 0:3] / max(abs(np.max(data[:, :, 0:3])), abs(np.min(data[:, :, 0:3])))\n",
    "    data[:, :, 3:6] = data[:, :, 3:6] / max(abs(np.max(data[:, :, 3:6])), abs(np.min(data[:, :, 3:6])))\n",
    "    data[:, :, 6:9] = data[:, :, 6:9] / max(abs(np.max(data[:, :, 6:9])), abs(np.min(data[:, :, 6:9])))\n",
    "    return data\n",
    "\n",
    "def load_X(X_signals_paths):\n",
    "    X_signals = []\n",
    "\n",
    "    for signal_type_path in X_signals_paths:\n",
    "        file = open(signal_type_path, 'r')\n",
    "        # Read dataset from disk, dealing with text files' syntax\n",
    "        X_signals.append(\n",
    "            [np.array(serie, dtype=np.float32) for serie in [\n",
    "                row.replace('  ', ' ').strip().split(' ') for row in file\n",
    "            ]]\n",
    "        )\n",
    "        file.close()\n",
    "\n",
    "    return np.transpose(np.array(X_signals), (1, 2, 0))\n",
    "\n",
    "def load_y(y_path):\n",
    "    file = open(y_path, 'r')\n",
    "    # Read dataset from disk, dealing with text file's syntax\n",
    "    y_ = np.array(\n",
    "        [elem for elem in [\n",
    "            row.replace('  ', ' ').strip().split(' ') for row in file\n",
    "        ]],\n",
    "        dtype=np.int32\n",
    "    )\n",
    "    file.close()\n",
    "\n",
    "    # Substract 1 to each output class for friendly 0-based indexing\n",
    "    return y_ - 1\n"
   ]
  },
  {
   "cell_type": "code",
   "execution_count": 32,
   "metadata": {},
   "outputs": [
    {
     "name": "stdout",
     "output_type": "stream",
     "text": [
      "\n",
      "Dataset is now located at: data/UCI HAR Dataset/\n",
      "y_train\n",
      "norm\n",
      "(2781, 128, 9)\n"
     ]
    }
   ],
   "source": [
    "\n",
    "# Those are separate normalised input features for the neural network\n",
    "INPUT_SIGNAL_TYPES = [\n",
    "    \"body_acc_x_\",\n",
    "    \"body_acc_y_\",\n",
    "    \"body_acc_z_\",\n",
    "    \"body_gyro_x_\",\n",
    "    \"body_gyro_y_\",\n",
    "    \"body_gyro_z_\",\n",
    "    \"total_acc_x_\",\n",
    "    \"total_acc_y_\",\n",
    "    \"total_acc_z_\"\n",
    "]\n",
    "\n",
    "# Output classes to learn how to classify\n",
    "LABELS = [\n",
    "    \"WALKING\",\n",
    "    \"WALKING_UPSTAIRS\",\n",
    "    \"WALKING_DOWNSTAIRS\",\n",
    "    \"SITTING\",\n",
    "    \"STANDING\",\n",
    "    \"LAYING\"\n",
    "]\n",
    "DATA_PATH = \"data/\"\n",
    "\n",
    "DATASET_PATH = DATA_PATH + \"UCI HAR Dataset/\"\n",
    "print(\"\\n\" + \"Dataset is now located at: \" + DATASET_PATH)\n",
    "\n",
    "TRAIN = \"train/\"\n",
    "TEST = \"test/\"\n",
    "\n",
    "X_train_signals_paths = [\n",
    "    DATASET_PATH + TRAIN + \"Inertial Signals/\" + signal + \"train.txt\" for signal in INPUT_SIGNAL_TYPES]\n",
    "X_test_signals_paths = [\n",
    "    DATASET_PATH + TEST + \"Inertial Signals/\" + signal + \"test.txt\" for signal in INPUT_SIGNAL_TYPES]\n",
    "\n",
    "x_train = load_X(X_train_signals_paths)\n",
    "x_test = load_X(X_test_signals_paths)\n",
    "\n",
    "y_train_path = DATASET_PATH + TRAIN + \"y_train.txt\"\n",
    "y_test_path = DATASET_PATH + TEST + \"y_test.txt\"\n",
    "\n",
    "y_train = load_y(y_train_path)\n",
    "y_test = load_y(y_test_path)\n",
    "\n",
    "x_train = x_train[np.isin(y_train.flatten(), [4,5]).flatten()]\n",
    "y_train = y_train[np.isin(y_train.flatten(), [4,5]).flatten()] - 4\n",
    "print('y_train')\n",
    "\n",
    "\n",
    "\n",
    "x_test = x_test[np.isin(y_test.flatten(), [4,5]).flatten()]\n",
    "y_test = y_test[np.isin(y_test.flatten(), [4,5]).flatten()] - 4 \n",
    "\n",
    "y_test_original = y_test  # save for CI test\n",
    "\n",
    "\n",
    "# y_train = one_hot(y_train, 4)\n",
    "# y_test = one_hot(y_test, 4)\n",
    "\n",
    "print(\"norm\")\n",
    "print(x_train.shape)\n",
    "# normolized each sensor, to range -1~1\n",
    "x_train = normalize(x_train)\n",
    "x_test  = normalize(x_test)\n",
    "\n",
    "# generate binary test data, convert range to [-128 127] for mcu\n",
    "x_test_bin = np.clip(x_test *128, -128, 127)\n",
    "x_train_bin = np.clip(x_train*128, -128, 127)\n",
    "\n",
    "\n"
   ]
  },
  {
   "cell_type": "code",
   "execution_count": 75,
   "metadata": {},
   "outputs": [],
   "source": [
    "def generate_train_header(x, y, file='tain_data.h'):\n",
    "    '''\n",
    "    this method generate the\n",
    "    :param x:  input x data size\n",
    "    :param y:  input label (one hot label)\n",
    "    :return:\n",
    "    '''\n",
    "    # quantize input x\n",
    "    min_value = np.min(x)\n",
    "    max_value = np.max(x)\n",
    "\n",
    "    int_bits = int(np.ceil(np.log2(max(abs(min_value), abs(max_value)))))\n",
    "    dec_bits = 7 - int_bits\n",
    "    x = np.round(x*2**dec_bits).astype(np.int8)\n",
    "    \n",
    "    print(x[0][0])\n",
    "    data = x.astype(dtype=\"byte\")\n",
    "    label = y\n",
    "    node = 0\n",
    "    with open(file, 'w') as f:\n",
    "        num_of_image = x.shape[0]\n",
    "        for i in range(num_of_image):\n",
    "            f.write('#define NODE_%d_TRAIN_IMG_%d {'%(node,i) )\n",
    "            (data[i]).flatten().tofile(f, sep=\", \") # convert 0~1 to 0~127\n",
    "            f.write('} \\n')\n",
    "            f.write('#define NODE_%d_TRAIN_IMG%d_LABEL'% (node, i))\n",
    "            f.write(' %d \\n \\n' % label[i])\n",
    "        f.write('#define NODE_%d_TOTAL_TRAIN_IMAGES %d \\n \\n'%(node,num_of_image))\n",
    "\n",
    "        f.write('static q7_t NODE_%d_TRAIN_IMAGES[%d][%d] = {' % (node,num_of_image, data[0].flatten().shape[0]))\n",
    "        f.write('NODE_%d_TRAIN_IMG_0'%(node))\n",
    "        for i in range(num_of_image -1):\n",
    "            f.write(',NODE_%d_TRAIN_IMG_%d'%(node, i+1))\n",
    "        f.write('};\\n\\n')\n",
    "\n",
    "        f.write('static q7_t NODE_%d_TRAIN_LABELS[%d] = {' % (node,num_of_image))\n",
    "        f.write('NODE_%d_TRAIN_IMG0_LABEL'%(node))\n",
    "        for i in range(num_of_image -1):\n",
    "            f.write(',NODE_%d_TRAIN_IMG%d_LABEL'%(node, i+1))\n",
    "        f.write('};\\n\\n')\n",
    "\n",
    "#     return 000\n"
   ]
  },
  {
   "cell_type": "code",
   "execution_count": 77,
   "metadata": {},
   "outputs": [
    {
     "name": "stdout",
     "output_type": "stream",
     "text": [
      "[  0   1   7   1   2   1 101 -12  10]\n"
     ]
    }
   ],
   "source": [
    "generate_train_header(x_train_bin, y_train, file='train_data.h')"
   ]
  },
  {
   "cell_type": "code",
   "execution_count": 67,
   "metadata": {},
   "outputs": [],
   "source": [
    "import numpy as np\n",
    "\n",
    "f = open(\"test_data.bin\", \"r\")\n",
    "a = np.fromfile(f, dtype=np.int8)\n"
   ]
  },
  {
   "cell_type": "code",
   "execution_count": 71,
   "metadata": {},
   "outputs": [
    {
     "name": "stdout",
     "output_type": "stream",
     "text": [
      "[  2  -5  20  24  30   8 114 -30   3   2  -7  28  26  40   5 114 -31   8\n",
      "   2 -10  40  28  29   5 114 -32  16   5 -10  38  27  21   1 116 -32  15\n",
      "   0  -8  33  22  23  -1 113 -31  13  -4  -7  34  17  19  -2 110 -31  15\n",
      " -12  -3  33  16  16  -2 106 -28  15 -18  -2  33  17  15  -2 102 -27  16]\n"
     ]
    }
   ],
   "source": [
    "print (a[128:200])"
   ]
  },
  {
   "cell_type": "code",
   "execution_count": 72,
   "metadata": {},
   "outputs": [],
   "source": [
    "def generate_test_bin(x, y, file='test_data.h'):\n",
    "    '''\n",
    "    method to generate the test data as a header file\n",
    "    :param x:  input x data size\n",
    "    :param y:  input label \n",
    "    :write to file \n",
    "    :return: nothing\n",
    "    '''\n",
    "    # quantize input x\n",
    "    min_value = np.min(x)\n",
    "    max_value = np.max(x)\n",
    "\n",
    "    int_bits = int(np.ceil(np.log2(max(abs(min_value), abs(max_value)))))\n",
    "    dec_bits = 7 - int_bits\n",
    "    x = np.round(x*2**dec_bits).astype(np.int8)\n",
    "    \n",
    "    data = x\n",
    "    label = y\n",
    "\n",
    "    with open(file, 'w') as f:\n",
    "        num_of_image = x.shape[0]\n",
    "        print(num_of_image)\n",
    "        for i in range(num_of_image):\n",
    "            f.write('#define TEST_IMG%d {'% (i))\n",
    "            data[i].flatten().tofile(f, sep=\", \")\n",
    "            f.write('} \\n')\n",
    "            f.write('#define TEST_IMG%d_LABEL'% (i))\n",
    "            f.write(' %d \\n \\n' % label[i])\n",
    "        f.write('#define TOTAL_TEST_IMAGES %d \\n \\n'%(num_of_image))\n",
    "\n",
    "        f.write('static q7_t TEST_IMAGES[%d][%d] = {' % (num_of_image, data[0].flatten().shape[0]))\n",
    "        f.write('TEST_IMG0')\n",
    "        for i in range(num_of_image -1):\n",
    "            f.write(',TEST_IMG%d'%(i+1))\n",
    "        f.write('};\\n\\n')\n",
    "\n",
    "        f.write('static q7_t TEST_LABELS[%d] = {' % (num_of_image))\n",
    "        f.write('TEST_IMG0_LABEL')\n",
    "        for i in range(num_of_image -1):\n",
    "            f.write(',TEST_IMG%d_LABEL'%(i+1))\n",
    "        f.write('};\\n\\n')\n"
   ]
  },
  {
   "cell_type": "code",
   "execution_count": 74,
   "metadata": {},
   "outputs": [
    {
     "name": "stdout",
     "output_type": "stream",
     "text": [
      "1069\n"
     ]
    }
   ],
   "source": [
    "generate_test_bin(x_test_bin, y_test, file='test_data.h')"
   ]
  },
  {
   "cell_type": "code",
   "execution_count": null,
   "metadata": {},
   "outputs": [],
   "source": [
    "!open .\n"
   ]
  },
  {
   "cell_type": "code",
   "execution_count": null,
   "metadata": {},
   "outputs": [],
   "source": []
  }
 ],
 "metadata": {
  "kernelspec": {
   "display_name": "Python 3",
   "language": "python",
   "name": "python3"
  },
  "language_info": {
   "codemirror_mode": {
    "name": "ipython",
    "version": 3
   },
   "file_extension": ".py",
   "mimetype": "text/x-python",
   "name": "python",
   "nbconvert_exporter": "python",
   "pygments_lexer": "ipython3",
   "version": "3.8.6"
  }
 },
 "nbformat": 4,
 "nbformat_minor": 4
}
